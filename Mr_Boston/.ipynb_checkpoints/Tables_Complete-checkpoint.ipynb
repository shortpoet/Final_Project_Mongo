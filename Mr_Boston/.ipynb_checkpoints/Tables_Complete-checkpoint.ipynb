{
 "cells": [
  {
   "cell_type": "code",
   "execution_count": null,
   "metadata": {},
   "outputs": [],
   "source": [
    "from credentials import user, password, rds_host\n",
    "import pymysql\n",
    "import pandas as pd\n",
    "from boston_functions import *\n",
    "import re\n",
    "import numpy as np\n",
    "from liquid import liquids\n",
    "from garnish import garnishes\n",
    "import random"
   ]
  },
  {
   "cell_type": "code",
   "execution_count": null,
   "metadata": {},
   "outputs": [],
   "source": [
    "data = pd.read_csv(\"./mr-boston-all-glasses.csv\")\n",
    "\n",
    "data = data[data.loc[:, \"glass-size\"].notna()]\n",
    "\n",
    "valid_units = [\"oz\", \"tsp\", \"splash\", \"dash\"]\n",
    "\n",
    "fill_liquid = [\"ginger ale\", \"carbonated water\", \"cola\", \"water\", \"chilled champagne\", \"soda water\", \n",
    "               \"club soda\", \"ginger ale or soda water\", \"lemon-lime soda\", \"ginger beer\", \"bitter lemon soda\",\n",
    "               \"apple juice\", \"orange juice\"]\n",
    "\n",
    "invaild_ingredients = ['chopped', 'cut in half', 'cut in halves', 'cut into halves', 'flamed', 'hulled', 'long', 'skinned',\n",
    "                       'whipped', \"preferably b.a. reynold's\", 'preferably jamaican', 'preferably japanese', \n",
    "                       'preferably pedro ximenez', \"such as bittermen's elemakule\", 'such as demerara', \n",
    "                       'such as islay or skye', 'such as nasturtium']\n"
   ]
  },
  {
   "cell_type": "code",
   "execution_count": null,
   "metadata": {},
   "outputs": [],
   "source": [
    "ingredient_indicies = range(3, 14)\n",
    "\n",
    "all_recipies, measures = get_cocktail_recipies(data, ingredient_indicies, liquids, garnishes, invaild_ingredients, valid_units)\n",
    "\n",
    "categories = list(set(data.iloc[:, 1])) + [\"AI Instant Classic\"]\n",
    "\n",
    "liquid_colors = pd.read_csv(\"./LIquid_Colors_Final.csv\")\n"
   ]
  },
  {
   "cell_type": "markdown",
   "metadata": {},
   "source": [
    "# populate_liquid_table(liquid_colors)"
   ]
  },
  {
   "cell_type": "code",
   "execution_count": null,
   "metadata": {},
   "outputs": [],
   "source": [
    "def populate_liquid_table(liquid_df):\n",
    "    conn = pymysql.connect(rds_host, user=user, password=password, connect_timeout=50)\n",
    "    cursor = conn.cursor()\n",
    "    cursor.execute('USE cocktailproject')\n",
    "    for row in range(len(liquid_df)):\n",
    "        liquid = liquid_df.iloc[row, 0]\n",
    "        hex_color = liquid_df.iloc[row, 1]\n",
    "        print(liquid, hex_color)\n",
    "        sql = f\"INSERT INTO Liquids (Liquid_Name, Color) VALUES ('{liquid}', '{hex_color}');\"\n",
    "        cursor.execute(sql)\n",
    "    conn.commit()\n",
    "    cursor.execute(\"SELECT * FROM Liquids\")\n",
    "    data = cursor.fetchall()\n",
    "    print(data)\n",
    "    conn.close()\n"
   ]
  },
  {
   "cell_type": "markdown",
   "metadata": {},
   "source": [
    "# populate_garnish_table(garnishes)"
   ]
  },
  {
   "cell_type": "code",
   "execution_count": null,
   "metadata": {},
   "outputs": [],
   "source": [
    "def populate_garnish_table(garnishes):\n",
    "    conn = pymysql.connect(rds_host, user=user, password=password, connect_timeout=50)\n",
    "    cursor = conn.cursor()\n",
    "    cursor.execute('USE cocktailproject')\n",
    "    for garnish in garnishes:\n",
    "        sql = f\"INSERT INTO Garnishes (Garnish_Name) VALUES ('{garnish}');\"\n",
    "        cursor.execute(sql)\n",
    "    conn.commit()\n",
    "    cursor.execute(\"SELECT * FROM Garnishes\")\n",
    "    data = cursor.fetchall()\n",
    "    print(data)\n",
    "    conn.close()\n"
   ]
  },
  {
   "cell_type": "markdown",
   "metadata": {},
   "source": [
    "# populate_category_table(categories)"
   ]
  },
  {
   "cell_type": "code",
   "execution_count": null,
   "metadata": {},
   "outputs": [],
   "source": [
    "def populate_category_table(categories):\n",
    "    conn = pymysql.connect(rds_host, user=user, password=password, connect_timeout=50)\n",
    "    cursor = conn.cursor()\n",
    "    cursor.execute('USE cocktailproject')\n",
    "    for category in categories:\n",
    "        sql = f\"INSERT INTO Categories (Category_Name) VALUES ('{category}');\"\n",
    "        cursor.execute(sql)\n",
    "    conn.commit()\n",
    "    cursor.execute(\"SELECT * FROM Categories\")\n",
    "    data = cursor.fetchall()\n",
    "    print(data)\n",
    "    conn.close()"
   ]
  },
  {
   "cell_type": "markdown",
   "metadata": {},
   "source": [
    "# populate_glass_table(Glasses)"
   ]
  },
  {
   "cell_type": "code",
   "execution_count": null,
   "metadata": {},
   "outputs": [],
   "source": [
    "#set empty lists for cocktail names, glass names, and glass sizes\n",
    "names = []\n",
    "glasses = []\n",
    "glass_sizes = []\n",
    "\n",
    "# locate cocktail names, glass names, and glass sizes\n",
    "for i in range(len(all_recipies)):\n",
    "    names.append(all_recipies[i][\"name\"])\n",
    "    glasses.append(all_recipies[i][\"glass\"])\n",
    "    glass_sizes.append(all_recipies[i][\"glass_size\"])\n",
    "#create df\n",
    "glass_df = pd.DataFrame({\"cocktail_name\": names, \"glass_name\": glasses, \"glass_size\": glass_sizes})\n",
    "\n",
    "# glass_df.head()"
   ]
  },
  {
   "cell_type": "code",
   "execution_count": null,
   "metadata": {},
   "outputs": [],
   "source": [
    "#read glass svg csv\n",
    "svg_data = pd.read_csv(\"../glasses.csv\")\n",
    "svg_data.head()"
   ]
  },
  {
   "cell_type": "code",
   "execution_count": null,
   "metadata": {},
   "outputs": [],
   "source": [
    "def populate_glass_table(glass_df):\n",
    "    conn = pymysql.connect(rds_host, user=user, password=password, connect_timeout=50)\n",
    "    cursor = conn.cursor()\n",
    "    cursor.execute('USE cocktailproject')\n",
    "    for row in range(len(glass_df)):\n",
    "        glass_name = glass_df.iloc[row, 1]\n",
    "        glass_size = glass_df.iloc[row, 2]\n",
    "        mask = glass_df.iloc[row, 3]\n",
    "        path = glass_df.iloc[row, 4]\n",
    "        mask_height = glass_df.iloc[row, 5]\n",
    "        mask_top_margin = glass_df.iloc[row, 6]\n",
    "        print(glass_name, glass_size)\n",
    "        sql = f\"INSERT INTO Glasses (Glass_Name, Glass_Size, Mask, Path, Mask_Height, Mask_Top_Margin) VALUES ('{glass_name}', '{glass_size}', '{mask}', '{path}', '{mask_height}', '{mask_top_margin}');\"\n",
    "        cursor.execute(sql)\n",
    "    conn.commit()\n",
    "    cursor.execute(\"SELECT * FROM Glasses\")\n",
    "    data = cursor.fetchall()\n",
    "    print(data)\n",
    "    conn.close()"
   ]
  },
  {
   "cell_type": "markdown",
   "metadata": {},
   "source": [
    "# populate_cocktail_table(cocktail_df)"
   ]
  },
  {
   "cell_type": "code",
   "execution_count": null,
   "metadata": {},
   "outputs": [],
   "source": [
    "#set empty lists for instructions, category and glass ids\n",
    "category_ids = []\n",
    "glass_ids = []\n",
    "instructions_list = []\n",
    "\n",
    "#connect to sql\n",
    "conn = pymysql.connect(rds_host, user=user, password=password, connect_timeout=50)\n",
    "#create cursor object\n",
    "cursor = conn.cursor()\n",
    "#use cocktail db\n",
    "cursor.execute('USE cocktailproject')\n",
    "\n",
    "#for each recipe,\n",
    "for i in range(len(all_recipies)):\n",
    "    #find instructions and append to instructions list\n",
    "    instructions = all_recipies[i][\"instructions\"]\n",
    "    instructions_list.append(instructions)\n",
    "    \n",
    "    #find cocktail category\n",
    "    category = all_recipies[i][\"category\"]\n",
    "    \n",
    "    #select category id and append to category id list\n",
    "    sql = f\"SELECT Category_ID FROM Categories WHERE Category_Name='{category}'\"\n",
    "    cursor.execute(sql)\n",
    "    data = cursor.fetchall()\n",
    "    category_ids.append(data[0][0])\n",
    "    \n",
    "    #select glass id and append to glass id list\n",
    "    sql = f\"SELECT Glass_ID FROM Glasses WHERE Glass_Name='{glasses[i]}'\"\n",
    "    cursor.execute(sql)\n",
    "    data = cursor.fetchall()\n",
    "    glass_ids.append(data[0][0])\n",
    "\n",
    "#close sql connection\n",
    "conn.close()"
   ]
  },
  {
   "cell_type": "code",
   "execution_count": null,
   "metadata": {},
   "outputs": [],
   "source": [
    "def populate_cocktail_table(cocktail_df):\n",
    "    conn = pymysql.connect(rds_host, user=user, password=password, connect_timeout=50)\n",
    "    cursor = conn.cursor()\n",
    "    cursor.execute('USE cocktailproject')\n",
    "    for row in range(len(cocktail_df)):\n",
    "        cocktail_name = cocktail_df.iloc[row, 0]\n",
    "        glass_id = cocktail_df.iloc[row, 1]\n",
    "        category_id = cocktail_df.iloc[row, 2]\n",
    "        instructions = cocktail_df.iloc[row, 3]\n",
    "        print(cocktail_name)\n",
    "        sql = f\"INSERT INTO Cocktails (Cocktail_Name, Glass_ID, Category_ID, Instructions) VALUES ('{cocktail_name}', '{glass_id}', '{category_id}', '{instructions}');\"\n",
    "        cursor.execute(sql)\n",
    "    conn.commit()\n",
    "    cursor.execute(\"SELECT * FROM Cocktails\")\n",
    "    data = cursor.fetchall()\n",
    "    print(data)\n",
    "    conn.close()\n",
    "# populate_cocktail_table(cocktail_df)"
   ]
  },
  {
   "cell_type": "markdown",
   "metadata": {},
   "source": [
    "# populate_liquid_instructions_table(liquid_ingredients_df)"
   ]
  },
  {
   "cell_type": "code",
   "execution_count": null,
   "metadata": {},
   "outputs": [],
   "source": [
    "liquid_instructions_table_sql = \"CREATE TABLE Liquid_Instuctions ( \\\n",
    "                                Liquid_Instruction_ID INT NOT NULL PRIMARY KEY AUTO_INCREMENT \\\n",
    "                                , Cocktail_ID INT \\\n",
    "                                , Liquid_ID INT \\\n",
    "                                , Measure VARCHAR(24) \\\n",
    "                                , FOREIGN KEY (Cocktail_ID) REFERENCES Cocktails(Cocktail_ID) \\\n",
    "                                , FOREIGN KEY (Liquid_ID) REFERENCES Liquids(Liquid_ID) \\\n",
    "                                );\"\n",
    "all_recipies[2]"
   ]
  },
  {
   "cell_type": "code",
   "execution_count": null,
   "metadata": {},
   "outputs": [],
   "source": [
    "#set empty lists for liquid and cocktail ids, liquid ingredients and measures\n",
    "cocktail_ids_list = []\n",
    "liquid_ingredient_list = []\n",
    "liquid_measure_list = []\n",
    "liquid_ids = []\n",
    "\n",
    "#for each recipe,\n",
    "for i in range(len(all_recipies)):\n",
    "    #set cocktail_id\n",
    "    cocktail_id = cocktail_id_list[i]\n",
    "    #find ingredient list\n",
    "    ingredient_list = all_recipies[i][\"recipe\"]\n",
    "    #for each non-garnish ingredient,\n",
    "    for measure, ingredient in ingredient_list:\n",
    "        if measure == \"add\":\n",
    "            pass\n",
    "        elif ingredient == \"pimm's cup\":\n",
    "            pass\n",
    "        #add to lists\n",
    "        else:\n",
    "            cocktail_ids_list.append(cocktail_id)\n",
    "            liquid_measure_list.append(measure)\n",
    "            liquid_ingredient_list.append(ingredient)\n",
    "            \n",
    "#connect to sql\n",
    "conn = pymysql.connect(rds_host, user=user, password=password, connect_timeout=50)\n",
    "#create cursor object\n",
    "cursor = conn.cursor()\n",
    "#use cocktail db\n",
    "cursor.execute('USE cocktailproject')\n",
    "\n",
    "\n",
    "#for each ingredient,\n",
    "for ingredient in liquid_ingredient_list:\n",
    "    print(ingredient)\n",
    "    if ingredient[:6] == \"rose's\":\n",
    "        ingredient = ingredient[7:]\n",
    "        print(ingredient)\n",
    "        #select liquid id and append to liquid id list\n",
    "        sql = f'SELECT Liquid_ID FROM Liquids WHERE Liquid_Name=\"{ingredient}\"'\n",
    "        cursor.execute(sql)\n",
    "        data = cursor.fetchall()\n",
    "        print(data[0][0])\n",
    "        liquid_ids.append(data[0][0])\n",
    "    elif ingredient[:8] ==\"peychaud\":\n",
    "        ingredient = \"peychauds bitters\"\n",
    "        print(ingredient)\n",
    "        #select liquid id and append to liquid id list\n",
    "        sql = f'SELECT Liquid_ID FROM Liquids WHERE Liquid_Name=\"{ingredient}\"'\n",
    "        cursor.execute(sql)\n",
    "        data = cursor.fetchall()\n",
    "        print(data[0][0])\n",
    "        liquid_ids.append(data[0][0])\n",
    "    else:\n",
    "        #select liquid id and append to liquid id list\n",
    "        sql = f'SELECT Liquid_ID FROM Liquids WHERE Liquid_Name=\"{ingredient}\"'\n",
    "        cursor.execute(sql)\n",
    "        data = cursor.fetchall()\n",
    "        print(data[0][0])\n",
    "        liquid_ids.append(data[0][0])\n",
    "\n",
    "#close sql connection\n",
    "conn.close()\n",
    "    \n",
    "liquid_ingredients_df = pd.DataFrame({\"cocktail_id\": cocktail_ids_list, \"liquid_id\": liquid_ids, \n",
    "                                      \"measure\": liquid_measure_list})\n",
    "\n",
    "liquid_ingredients_df.head()\n"
   ]
  },
  {
   "cell_type": "code",
   "execution_count": null,
   "metadata": {},
   "outputs": [],
   "source": [
    "print(len(cocktail_ids_list), len(liquid_ids), len(liquid_measure_list))"
   ]
  },
  {
   "cell_type": "code",
   "execution_count": null,
   "metadata": {},
   "outputs": [],
   "source": [
    "def populate_liquid_instructions_table(liquid_instructions_df):\n",
    "    conn = pymysql.connect(rds_host, user=user, password=password, connect_timeout=50)\n",
    "    cursor = conn.cursor()\n",
    "    cursor.execute('USE cocktailproject')\n",
    "    for row in range(len(liquid_instructions_df)):\n",
    "        cocktail_id = liquid_instructions_df.iloc[row, 0]\n",
    "        liquid_id = liquid_instructions_df.iloc[row, 1]\n",
    "        measure = liquid_instructions_df.iloc[row, 2]\n",
    "        print(liquid_id, measure)\n",
    "        sql = f\"INSERT INTO Liquid_Instuctions (Cocktail_ID, Liquid_ID, Measure) VALUES ('{cocktail_id}', '{liquid_id}', '{measure}');\"\n",
    "        cursor.execute(sql)\n",
    "    conn.commit()\n",
    "    cursor.execute(\"SELECT * FROM Liquid_Instuctions\")\n",
    "    data = cursor.fetchall()\n",
    "    print(data)\n",
    "    conn.close()\n",
    "# populate_liquid_instructions_table(liquid_ingredients_df)"
   ]
  },
  {
   "cell_type": "markdown",
   "metadata": {},
   "source": [
    "# populate_garnish_instructions_table(garnish_instructions_df)"
   ]
  },
  {
   "cell_type": "code",
   "execution_count": null,
   "metadata": {},
   "outputs": [],
   "source": [
    "#set empty lists for cocktail ids, liquid ingredients and measures\n",
    "cocktail_ids_list = []\n",
    "garnish_ingredient_list = []\n",
    "\n",
    "#for each recipe,\n",
    "for i in range(len(all_recipies)):\n",
    "    #set cocktail_id\n",
    "    cocktail_id = cocktail_id_list[i]\n",
    "    #find ingredient list\n",
    "    ingredient_list = all_recipies[i][\"recipe\"]\n",
    "    #for each non-garnish ingredient,\n",
    "    for measure, ingredient in ingredient_list:\n",
    "        if measure != \"add\":\n",
    "            pass\n",
    "        else:\n",
    "            cocktail_ids_list.append(cocktail_id)\n",
    "            garnish_ingredient_list.append(ingredient)\n",
    "            \n",
    "#connect to sql\n",
    "conn = pymysql.connect(rds_host, user=user, password=password, connect_timeout=50)\n",
    "#create cursor object\n",
    "cursor = conn.cursor()\n",
    "#use cocktail db\n",
    "cursor.execute('USE cocktailproject')\n",
    "\n",
    "#set empty list for liquid ids\n",
    "garnish_ids = []\n",
    "\n",
    "#for each ingredient,\n",
    "for ingredient in garnish_ingredient_list:\n",
    "    print(ingredient)\n",
    "#     if ingredient[:6] == \"rose's\":\n",
    "#         ingredient = ingredient[7:]\n",
    "#         print(ingredient)\n",
    "#         #select liquid id and append to liquid id list\n",
    "#         sql = f'SELECT Liquid_ID FROM Liquids WHERE Liquid_Name=\"{ingredient}\"'\n",
    "#         cursor.execute(sql)\n",
    "#         data = cursor.fetchall()\n",
    "#         print(data[0][0])\n",
    "#         liquid_ids.append(data[0][0])\n",
    "#     elif ingredient[:8] ==\"peychaud\":\n",
    "#         ingredient = \"peychauds bitters\"\n",
    "#         print(ingredient)\n",
    "#         #select liquid id and append to liquid id list\n",
    "#         sql = f'SELECT Liquid_ID FROM Liquids WHERE Liquid_Name=\"{ingredient}\"'\n",
    "#         cursor.execute(sql)\n",
    "#         data = cursor.fetchall()\n",
    "#         print(data[0][0])\n",
    "#         liquid_ids.append(data[0][0])\n",
    "#     else:\n",
    "    #select liquid id and append to liquid id list\n",
    "    sql = f'SELECT Garnish_ID FROM Garnishes WHERE Garnish_Name=\"{ingredient}\"'\n",
    "    cursor.execute(sql)\n",
    "    data = cursor.fetchall()\n",
    "    print(data[0][0])\n",
    "    garnish_ids.append(data[0][0])\n",
    "\n",
    "#close sql connection\n",
    "conn.close()\n",
    "    \n",
    "garnish_ingredients_df = pd.DataFrame({\"cocktail_id\": cocktail_ids_list, \"garnish_id\": garnish_ids})\n",
    "\n",
    "garnish_ingredients_df.head()"
   ]
  },
  {
   "cell_type": "code",
   "execution_count": null,
   "metadata": {},
   "outputs": [],
   "source": [
    "def populate_garnish_instructions_table(garnish_instructions_df):\n",
    "    conn = pymysql.connect(rds_host, user=user, password=password, connect_timeout=50)\n",
    "    cursor = conn.cursor()\n",
    "    cursor.execute('USE cocktailproject')\n",
    "    for row in range(len(garnish_instructions_df)):\n",
    "        cocktail_id = garnish_instructions_df.iloc[row, 0]\n",
    "        garnish_id = garnish_instructions_df.iloc[row, 1]\n",
    "        print(garnish_id)\n",
    "        sql = f\"INSERT INTO Garnish_Instuctions (Cocktail_ID, Garnish_ID) VALUES ('{cocktail_id}', '{garnish_id}');\"\n",
    "        cursor.execute(sql)\n",
    "    conn.commit()\n",
    "    cursor.execute(\"SELECT * FROM Garnish_Instuctions\")\n",
    "    data = cursor.fetchall()\n",
    "    print(data)\n",
    "    conn.close()\n",
    "populate_garnish_instructions_table(garnish_ingredients_df)"
   ]
  },
  {
   "cell_type": "markdown",
   "metadata": {},
   "source": [
    "# populate_rating_table(rating_df):"
   ]
  },
  {
   "cell_type": "code",
   "execution_count": null,
   "metadata": {},
   "outputs": [],
   "source": [
    "rating_table_sql = \"CREATE TABLE Ratings ( \\\n",
    "                Rating_ID INT NOT NULL PRIMARY KEY AUTO_INCREMENT \\\n",
    "                , Rating INT \\\n",
    "                , Cocktail_ID INT\\\n",
    "                , FOREIGN KEY (Cocktail_ID) REFERENCES Cocktails(Cocktail_ID) \\\n",
    "                );\""
   ]
  },
  {
   "cell_type": "code",
   "execution_count": null,
   "metadata": {},
   "outputs": [],
   "source": [
    "#connect to sql, create cursor object, and use cocktail db\n",
    "conn = pymysql.connect(rds_host, user=user, password=password, connect_timeout=50)\n",
    "cursor = conn.cursor()\n",
    "cursor.execute('USE cocktailproject')\n",
    "\n",
    "sql = \"SELECT Cocktail_ID FROM Cocktails\"\n",
    "cursor.execute(sql)\n",
    "data = cursor.fetchall()\n",
    "cocktail_ids_data = data\n",
    "cocktail_ids = []\n",
    "for i in range(len(cocktail_ids_data)):\n",
    "    \n",
    "    cocktail_ids.append(cocktail_ids_data[i][0])\n",
    "\n",
    "\n",
    "conn.close()\n",
    "len(cocktail_ids)"
   ]
  },
  {
   "cell_type": "code",
   "execution_count": null,
   "metadata": {},
   "outputs": [],
   "source": [
    "cocktail_id_list = []\n",
    "ratings_list = []\n",
    "for _id in cocktail_ids:\n",
    "    for i in range(5):\n",
    "        cocktail_id_list.append(_id)\n",
    "        ratings_list.append(random.randint(1,5))\n",
    "\n",
    "rating_df = pd.DataFrame({\"rating\": ratings_list, \"cocktail_id\": cocktail_id_list})"
   ]
  },
  {
   "cell_type": "code",
   "execution_count": null,
   "metadata": {},
   "outputs": [],
   "source": [
    "def populate_rating_table(rating_df):\n",
    "    conn = pymysql.connect(rds_host, user=user, password=password, connect_timeout=50)\n",
    "    cursor = conn.cursor()\n",
    "    cursor.execute('USE cocktailproject')\n",
    "    for row in range(len(rating_df)):\n",
    "        rating = rating_df.iloc[row, 0]\n",
    "        cocktail_id = rating_df.iloc[row, 1]\n",
    "        print(rating)\n",
    "        sql = f\"INSERT INTO Ratings (Rating, Cocktail_ID) VALUES ('{rating}','{cocktail_id}');\"\n",
    "        cursor.execute(sql)\n",
    "    conn.commit()\n",
    "    cursor.execute(\"SELECT * FROM Ratings\")\n",
    "    data = cursor.fetchall()\n",
    "    print(data)\n",
    "    conn.close()\n",
    "# populate_rating_table(rating_df)"
   ]
  },
  {
   "cell_type": "code",
   "execution_count": 9,
   "metadata": {},
   "outputs": [
    {
     "data": {
      "text/plain": [
       "1.5"
      ]
     },
     "execution_count": 9,
     "metadata": {},
     "output_type": "execute_result"
    }
   ],
   "source": [
    "float(1) + float(1/2)"
   ]
  },
  {
   "cell_type": "code",
   "execution_count": 10,
   "metadata": {},
   "outputs": [
    {
     "data": {
      "text/plain": [
       "1.6666666666666667"
      ]
     },
     "execution_count": 10,
     "metadata": {},
     "output_type": "execute_result"
    }
   ],
   "source": [
    "from fractions import Fraction\n",
    "float(sum(Fraction(s) for s in '1 2/3'.split()))"
   ]
  },
  {
   "cell_type": "code",
   "execution_count": 12,
   "metadata": {},
   "outputs": [
    {
     "data": {
      "text/plain": [
       "'splash'"
      ]
     },
     "execution_count": 12,
     "metadata": {},
     "output_type": "execute_result"
    }
   ],
   "source": [
    "\"splashes\"[:6]"
   ]
  },
  {
   "cell_type": "code",
   "execution_count": null,
   "metadata": {},
   "outputs": [],
   "source": []
  }
 ],
 "metadata": {
  "kernelspec": {
   "display_name": "Python 3",
   "language": "python",
   "name": "python3"
  },
  "language_info": {
   "codemirror_mode": {
    "name": "ipython",
    "version": 3
   },
   "file_extension": ".py",
   "mimetype": "text/x-python",
   "name": "python",
   "nbconvert_exporter": "python",
   "pygments_lexer": "ipython3",
   "version": "3.7.2"
  }
 },
 "nbformat": 4,
 "nbformat_minor": 2
}
